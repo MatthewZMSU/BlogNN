{
 "cells": [
  {
   "cell_type": "code",
   "execution_count": 1,
   "outputs": [],
   "source": [
    "import torch"
   ],
   "metadata": {
    "collapsed": false,
    "ExecuteTime": {
     "end_time": "2023-07-30T18:17:34.129029807Z",
     "start_time": "2023-07-30T18:17:32.926545834Z"
    }
   }
  },
  {
   "cell_type": "code",
   "execution_count": 26,
   "outputs": [
    {
     "name": "stdout",
     "output_type": "stream",
     "text": [
      "770\n"
     ]
    }
   ],
   "source": [
    "import json\n",
    "\n",
    "with open(\"corpus.json\", 'r') as f:\n",
    "    to_read = json.load(f)\n",
    "    key_words = to_read['key_words']\n",
    "print(len(key_words))"
   ],
   "metadata": {
    "collapsed": false,
    "ExecuteTime": {
     "end_time": "2023-07-30T19:18:40.130391626Z",
     "start_time": "2023-07-30T19:18:40.083563588Z"
    }
   }
  },
  {
   "cell_type": "code",
   "execution_count": 2,
   "outputs": [
    {
     "data": {
      "text/plain": "True"
     },
     "execution_count": 2,
     "metadata": {},
     "output_type": "execute_result"
    }
   ],
   "source": [
    "771 == 3 * 257"
   ],
   "metadata": {
    "collapsed": false,
    "ExecuteTime": {
     "end_time": "2023-07-30T18:17:34.144278345Z",
     "start_time": "2023-07-30T18:17:34.133603740Z"
    }
   }
  },
  {
   "cell_type": "code",
   "execution_count": 3,
   "outputs": [],
   "source": [
    "batch_size = 16\n",
    "input_shape = (batch_size, 771)\n",
    "input_layer = torch.rand(size=input_shape)"
   ],
   "metadata": {
    "collapsed": false,
    "ExecuteTime": {
     "end_time": "2023-07-30T18:17:34.337129428Z",
     "start_time": "2023-07-30T18:17:34.333976983Z"
    }
   }
  },
  {
   "cell_type": "code",
   "execution_count": 4,
   "outputs": [],
   "source": [
    "from torch.nn import AvgPool1d\n",
    "\n",
    "avg_pool = AvgPool1d(kernel_size=3, stride=2)(input_layer)"
   ],
   "metadata": {
    "collapsed": false,
    "ExecuteTime": {
     "end_time": "2023-07-30T18:17:41.143094381Z",
     "start_time": "2023-07-30T18:17:41.133023977Z"
    }
   }
  },
  {
   "cell_type": "code",
   "execution_count": 15,
   "outputs": [
    {
     "data": {
      "text/plain": "torch.Size([16, 385])"
     },
     "execution_count": 15,
     "metadata": {},
     "output_type": "execute_result"
    }
   ],
   "source": [
    "avg_pool.shape"
   ],
   "metadata": {
    "collapsed": false,
    "ExecuteTime": {
     "end_time": "2023-07-29T18:21:16.924135446Z",
     "start_time": "2023-07-29T18:21:16.916030659Z"
    }
   }
  },
  {
   "cell_type": "code",
   "execution_count": 5,
   "outputs": [],
   "source": [
    "from torch.nn import MaxPool1d\n",
    "\n",
    "max_pool = MaxPool1d(kernel_size=2, stride=2)(avg_pool)"
   ],
   "metadata": {
    "collapsed": false,
    "ExecuteTime": {
     "end_time": "2023-07-30T18:17:42.088803549Z",
     "start_time": "2023-07-30T18:17:42.081609645Z"
    }
   }
  },
  {
   "cell_type": "code",
   "execution_count": 20,
   "outputs": [
    {
     "data": {
      "text/plain": "torch.Size([16, 192])"
     },
     "execution_count": 20,
     "metadata": {},
     "output_type": "execute_result"
    }
   ],
   "source": [
    "max_pool.shape"
   ],
   "metadata": {
    "collapsed": false,
    "ExecuteTime": {
     "end_time": "2023-07-29T18:21:58.052133588Z",
     "start_time": "2023-07-29T18:21:58.040709222Z"
    }
   }
  },
  {
   "cell_type": "code",
   "execution_count": 22,
   "outputs": [
    {
     "data": {
      "text/plain": "torch.Size([16, 64])"
     },
     "execution_count": 22,
     "metadata": {},
     "output_type": "execute_result"
    }
   ],
   "source": [
    "avg_pool_2 = AvgPool1d(kernel_size=3, stride=3)(max_pool)\n",
    "avg_pool_2.shape"
   ],
   "metadata": {
    "collapsed": false,
    "ExecuteTime": {
     "end_time": "2023-07-29T18:24:52.743311240Z",
     "start_time": "2023-07-29T18:24:52.735303184Z"
    }
   }
  },
  {
   "cell_type": "code",
   "execution_count": 3,
   "outputs": [
    {
     "data": {
      "text/plain": "True"
     },
     "execution_count": 3,
     "metadata": {},
     "output_type": "execute_result"
    }
   ],
   "source": [
    "import torch\n",
    "\n",
    "torch.cuda.is_available()"
   ],
   "metadata": {
    "collapsed": false,
    "ExecuteTime": {
     "end_time": "2023-07-29T16:52:14.362613116Z",
     "start_time": "2023-07-29T16:52:12.397579703Z"
    }
   }
  },
  {
   "cell_type": "code",
   "execution_count": 11,
   "outputs": [],
   "source": [
    "from torch import nn\n",
    "\n",
    "class BlogClassifier(torch.nn.Module):\n",
    "    def __init__(self):\n",
    "        super().__init__()\n",
    "        self.base_blog_classifier = nn.Sequential(\n",
    "            nn.AvgPool1d(kernel_size=3, stride=2),\n",
    "            nn.MaxPool1d(kernel_size=2, stride=2),\n",
    "            nn.AvgPool1d(kernel_size=3, stride=3),  # (batch_size, 64)\n",
    "            nn.Linear(64, 16),\n",
    "            nn.ReLU(),\n",
    "            nn.Linear(16, 4),\n",
    "            nn.ReLU(),\n",
    "            nn.Linear(4, 2),\n",
    "            nn.Softmax(dim=1),\n",
    "        )\n",
    "    \n",
    "    def forward(self, x):\n",
    "        return self.base_blog_classifier(x)"
   ],
   "metadata": {
    "collapsed": false,
    "ExecuteTime": {
     "end_time": "2023-07-30T18:18:35.190935625Z",
     "start_time": "2023-07-30T18:18:35.147018046Z"
    }
   }
  },
  {
   "cell_type": "code",
   "execution_count": 12,
   "outputs": [
    {
     "data": {
      "text/plain": "'cuda'"
     },
     "execution_count": 12,
     "metadata": {},
     "output_type": "execute_result"
    }
   ],
   "source": [
    "device = 'cuda' if torch.cuda.is_available() else 'cpu'\n",
    "device"
   ],
   "metadata": {
    "collapsed": false,
    "ExecuteTime": {
     "end_time": "2023-07-30T18:18:35.931580671Z",
     "start_time": "2023-07-30T18:18:35.921982186Z"
    }
   }
  },
  {
   "cell_type": "code",
   "execution_count": 13,
   "outputs": [
    {
     "name": "stdout",
     "output_type": "stream",
     "text": [
      "BlogClassifier(\n",
      "  (base_blog_classifier): Sequential(\n",
      "    (0): AvgPool1d(kernel_size=(3,), stride=(2,), padding=(0,))\n",
      "    (1): MaxPool1d(kernel_size=2, stride=2, padding=0, dilation=1, ceil_mode=False)\n",
      "    (2): AvgPool1d(kernel_size=(3,), stride=(3,), padding=(0,))\n",
      "    (3): Linear(in_features=64, out_features=16, bias=True)\n",
      "    (4): ReLU()\n",
      "    (5): Linear(in_features=16, out_features=4, bias=True)\n",
      "    (6): ReLU()\n",
      "    (7): Linear(in_features=4, out_features=2, bias=True)\n",
      "    (8): Softmax(dim=1)\n",
      "  )\n",
      ")\n"
     ]
    }
   ],
   "source": [
    "model = BlogClassifier().to(device)\n",
    "print(model)"
   ],
   "metadata": {
    "collapsed": false,
    "ExecuteTime": {
     "end_time": "2023-07-30T18:18:36.680019352Z",
     "start_time": "2023-07-30T18:18:36.656739437Z"
    }
   }
  },
  {
   "cell_type": "code",
   "execution_count": 18,
   "outputs": [],
   "source": [
    "input_layer = input_layer.to(device)\n",
    "prediction: torch.Tensor = model(input_layer)"
   ],
   "metadata": {
    "collapsed": false,
    "ExecuteTime": {
     "end_time": "2023-07-30T18:20:55.969988647Z",
     "start_time": "2023-07-30T18:20:55.909626064Z"
    }
   }
  },
  {
   "cell_type": "code",
   "execution_count": 25,
   "outputs": [
    {
     "data": {
      "text/plain": "array([0.5241101 , 0.5238142 , 0.5153617 , 0.51904035, 0.52541095,\n       0.5220236 , 0.52196616, 0.5267083 , 0.5225529 , 0.5224907 ,\n       0.5197014 , 0.52261776, 0.52475965, 0.5184817 , 0.52251923,\n       0.52464783], dtype=float32)"
     },
     "execution_count": 25,
     "metadata": {},
     "output_type": "execute_result"
    }
   ],
   "source": [
    "import numpy as np\n",
    "\n",
    "np.max(prediction.cpu().detach().numpy(), axis=1)\n"
   ],
   "metadata": {
    "collapsed": false
   }
  },
  {
   "cell_type": "code",
   "execution_count": null,
   "outputs": [],
   "source": [
    "# Node_1 -> float -> probability\n",
    "# Node_2 -> float -> probability"
   ],
   "metadata": {
    "collapsed": false
   }
  },
  {
   "cell_type": "code",
   "execution_count": 33,
   "outputs": [],
   "source": [
    "batch_size = 16\n",
    "\n",
    "# Here we prepare training data\n",
    "# I am lazy"
   ],
   "metadata": {
    "collapsed": false,
    "ExecuteTime": {
     "end_time": "2023-07-29T18:42:43.249244536Z",
     "start_time": "2023-07-29T18:42:43.243777750Z"
    }
   }
  },
  {
   "cell_type": "code",
   "execution_count": 34,
   "outputs": [],
   "source": [
    "loss_fn = nn.BCELoss()\n",
    "optimizer = torch.optim.SGD(model.parameters(), lr=0.01, momentum=0.004)  # SGD with momentum\n",
    "# We can change this to Adam (better option) but we want just easy project"
   ],
   "metadata": {
    "collapsed": false,
    "ExecuteTime": {
     "end_time": "2023-07-29T18:45:17.529195003Z",
     "start_time": "2023-07-29T18:45:17.480905217Z"
    }
   }
  },
  {
   "cell_type": "code",
   "execution_count": 35,
   "outputs": [],
   "source": [
    "def train(model: nn.Module, dataloader, device,\n",
    "          loss_fn, optimizer: torch.optim.Optimizer,\n",
    "          verbose: bool=False,\n",
    "          n_epochs: int=50):\n",
    "    model.train()\n",
    "    for epoch in range(1, n_epochs + 1):\n",
    "        for batch, (X, y) in enumerate(dataloader, start=1):\n",
    "            X, y = X.to(device), y.to(device)\n",
    "\n",
    "            prediction = model(X)\n",
    "            class_probabilities = torch.argmax(prediction, dim=1)\n",
    "            loss = loss_fn(class_probabilities, y)\n",
    "\n",
    "            loss.backward()\n",
    "            optimizer.step()\n",
    "            optimizer.zero_grad()\n",
    "\n",
    "            if verbose and batch % 10 == 0:\n",
    "                print(f\"Loss {loss.item()} on epoch {epoch}\")"
   ],
   "metadata": {
    "collapsed": false,
    "ExecuteTime": {
     "end_time": "2023-07-29T18:56:49.565894608Z",
     "start_time": "2023-07-29T18:56:49.518780446Z"
    }
   }
  }
 ],
 "metadata": {
  "kernelspec": {
   "display_name": "Python 3",
   "language": "python",
   "name": "python3"
  },
  "language_info": {
   "codemirror_mode": {
    "name": "ipython",
    "version": 2
   },
   "file_extension": ".py",
   "mimetype": "text/x-python",
   "name": "python",
   "nbconvert_exporter": "python",
   "pygments_lexer": "ipython2",
   "version": "2.7.6"
  }
 },
 "nbformat": 4,
 "nbformat_minor": 0
}
