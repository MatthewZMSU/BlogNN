{
 "cells": [
  {
   "cell_type": "code",
   "execution_count": 1,
   "metadata": {
    "collapsed": true,
    "ExecuteTime": {
     "end_time": "2023-07-30T17:46:34.711249170Z",
     "start_time": "2023-07-30T17:46:34.538883745Z"
    }
   },
   "outputs": [],
   "source": [
    "from collections import Counter\n",
    "from nltk.stem.snowball import RussianStemmer\n",
    "\n",
    "import json\n",
    "import re"
   ]
  },
  {
   "cell_type": "code",
   "execution_count": 2,
   "outputs": [],
   "source": [
    "def cleaning(word: str) -> bool:\n",
    "    if not word:\n",
    "        return False\n",
    "    if re.match(r'.*\\d+.*', word):\n",
    "        return False\n",
    "    return True\n",
    "\n",
    "def get_words(text: str):\n",
    "    uncleaned = re.findall(r'[Нн]а самом деле|[Вв] общем|\\w+-\\w+|\\w+', text)\n",
    "    cleaned = filter(cleaning, uncleaned)\n",
    "    normalized = map(lambda word: word.lower(), cleaned)\n",
    "    yo_deleted = map(lambda word: word.replace('ё', 'е'), normalized)\n",
    "    stemmer = RussianStemmer()\n",
    "    return map(lambda word: stemmer.stem(word), yo_deleted)"
   ],
   "metadata": {
    "collapsed": false,
    "ExecuteTime": {
     "end_time": "2023-07-30T17:46:42.670683278Z",
     "start_time": "2023-07-30T17:46:42.657733428Z"
    }
   }
  },
  {
   "cell_type": "code",
   "execution_count": 3,
   "outputs": [],
   "source": [
    "with open('texts.json', 'r') as f:\n",
    "    texts = json.load(f)"
   ],
   "metadata": {
    "collapsed": false,
    "ExecuteTime": {
     "end_time": "2023-07-30T17:46:44.077191522Z",
     "start_time": "2023-07-30T17:46:44.054038139Z"
    }
   }
  },
  {
   "cell_type": "code",
   "execution_count": 4,
   "outputs": [],
   "source": [
    "corpus_words = Counter()\n",
    "total_documents = 0"
   ],
   "metadata": {
    "collapsed": false,
    "ExecuteTime": {
     "end_time": "2023-07-30T17:46:45.301413948Z",
     "start_time": "2023-07-30T17:46:45.291964008Z"
    }
   }
  },
  {
   "cell_type": "code",
   "execution_count": 5,
   "outputs": [],
   "source": [
    "for text in texts:\n",
    "    author, message = text['author'], text['message']\n",
    "    if author and message:\n",
    "        # Here we generate corpus\n",
    "        words = Counter(set(get_words(message)))\n",
    "        if words.total():\n",
    "            total_documents += 1\n",
    "            corpus_words += words"
   ],
   "metadata": {
    "collapsed": false,
    "ExecuteTime": {
     "end_time": "2023-07-30T17:46:51.170092940Z",
     "start_time": "2023-07-30T17:46:46.455448892Z"
    }
   }
  },
  {
   "cell_type": "code",
   "execution_count": 6,
   "outputs": [
    {
     "data": {
      "text/plain": "459"
     },
     "execution_count": 6,
     "metadata": {},
     "output_type": "execute_result"
    }
   ],
   "source": [
    "total_documents"
   ],
   "metadata": {
    "collapsed": false,
    "ExecuteTime": {
     "end_time": "2023-07-30T17:46:51.193701482Z",
     "start_time": "2023-07-30T17:46:51.178513343Z"
    }
   }
  },
  {
   "cell_type": "code",
   "execution_count": 7,
   "outputs": [],
   "source": [
    "key_words = corpus_words.keys()"
   ],
   "metadata": {
    "collapsed": false,
    "ExecuteTime": {
     "end_time": "2023-07-30T17:46:53.848532876Z",
     "start_time": "2023-07-30T17:46:53.838191616Z"
    }
   }
  },
  {
   "cell_type": "code",
   "execution_count": 8,
   "outputs": [],
   "source": [
    "def filter_keys(word: str) -> bool:\n",
    "    if corpus_words[word] / total_documents >= 0.8 or corpus_words[word] <= 15:\n",
    "        return False\n",
    "    return True\n",
    "\n",
    "filtered_keys = filter(filter_keys, key_words)"
   ],
   "metadata": {
    "collapsed": false,
    "ExecuteTime": {
     "end_time": "2023-07-30T17:46:54.841555107Z",
     "start_time": "2023-07-30T17:46:54.838773659Z"
    }
   }
  },
  {
   "cell_type": "code",
   "execution_count": 9,
   "outputs": [],
   "source": [
    "with open('corpus.json', 'w') as f:\n",
    "    to_write = {\n",
    "        'documents_number':  total_documents,\n",
    "        'key_words': list(filtered_keys),\n",
    "        'corpus': corpus_words\n",
    "    }\n",
    "    json.dump(to_write, f, indent=4, ensure_ascii=False)"
   ],
   "metadata": {
    "collapsed": false,
    "ExecuteTime": {
     "end_time": "2023-07-30T17:46:57.433498116Z",
     "start_time": "2023-07-30T17:46:57.391448065Z"
    }
   }
  }
 ],
 "metadata": {
  "kernelspec": {
   "display_name": "Python 3",
   "language": "python",
   "name": "python3"
  },
  "language_info": {
   "codemirror_mode": {
    "name": "ipython",
    "version": 2
   },
   "file_extension": ".py",
   "mimetype": "text/x-python",
   "name": "python",
   "nbconvert_exporter": "python",
   "pygments_lexer": "ipython2",
   "version": "2.7.6"
  }
 },
 "nbformat": 4,
 "nbformat_minor": 0
}
